{
  "nbformat": 4,
  "nbformat_minor": 0,
  "metadata": {
    "colab": {
      "name": "hello notepad.ipynb",
      "provenance": [],
      "authorship_tag": "ABX9TyN7Ju1cPHgh31BmwuBdqZAW",
      "include_colab_link": true
    },
    "kernelspec": {
      "name": "python3",
      "display_name": "Python 3"
    },
    "language_info": {
      "name": "python"
    }
  },
  "cells": [
    {
      "cell_type": "markdown",
      "metadata": {
        "id": "view-in-github",
        "colab_type": "text"
      },
      "source": [
        "<a href=\"https://colab.research.google.com/github/gintarasmartinaitis/manonaujas/blob/main/hello_notepad.ipynb\" target=\"_parent\"><img src=\"https://colab.research.google.com/assets/colab-badge.svg\" alt=\"Open In Colab\"/></a>"
      ]
    },
    {
      "cell_type": "code",
      "metadata": {
        "colab": {
          "base_uri": "https://localhost:8080/"
        },
        "id": "jBe9rAwxP9xx",
        "outputId": "0ca09702-0ed3-4a8d-a7d1-91b4afeaf1d2"
      },
      "source": [
        "print( \"hello notepad\" )"
      ],
      "execution_count": null,
      "outputs": [
        {
          "output_type": "stream",
          "text": [
            "hello notepad\n"
          ],
          "name": "stdout"
        }
      ]
    }
  ]
}